{
  "nbformat": 4,
  "nbformat_minor": 0,
  "metadata": {
    "colab": {
      "name": "week1",
      "provenance": [],
      "collapsed_sections": []
    },
    "kernelspec": {
      "name": "python3",
      "display_name": "Python 3"
    }
  },
  "cells": [
    {
      "cell_type": "code",
      "metadata": {
        "id": "0hdpaRK6bg3z"
      },
      "source": [
        "!apt-get update -qq\r\n",
        "!apt-get install fonts-nanum* -qq"
      ],
      "execution_count": null,
      "outputs": []
    },
    {
      "cell_type": "code",
      "metadata": {
        "id": "yP16j8NxbiYl"
      },
      "source": [
        "import matplotlib.pyplot as plt\r\n",
        "%matplotlib inline\r\n",
        "\r\n",
        "import matplotlib as mpl\r\n",
        "\r\n",
        "plt.rcParams['axes.unicode_minus'] = False\r\n",
        "\r\n",
        "path = '/usr/share/fonts/truetype/nanum/NanumGothicCoding.ttf'\r\n",
        "font_name = mpl.font_manager.FontProperties(fname=path).get_name()\r\n",
        "\r\n",
        "mpl.rc('font', family=font_name)\r\n",
        "mpl.font_manager._rebuild()"
      ],
      "execution_count": null,
      "outputs": []
    },
    {
      "cell_type": "code",
      "metadata": {
        "id": "-Fdwz9dlbkYi"
      },
      "source": [
        "import nltk\r\n",
        "nltk.download('punkt')\r\n",
        "from nltk.tokenize import word_tokenize\r\n",
        "from nltk.tag import pos_tag\r\n",
        "\r\n",
        "def filesave(path, obj):\r\n",
        "    outfile = open(path, 'w')\r\n",
        "    outfile.write(str(obj))\r\n",
        "    outfile.close()\r\n",
        "\r\n",
        "rv_lyrics = open('/content/drive/MyDrive/invisible_dragon.txt').read()"
      ],
      "execution_count": null,
      "outputs": []
    },
    {
      "cell_type": "code",
      "metadata": {
        "id": "fNXbd06Ebq_S"
      },
      "source": [
        "words = word_tokenize(rv_lyrics)\r\n",
        "filesave('/content/drive/MyDrive/invisible_dragon_words.txt', words)"
      ],
      "execution_count": null,
      "outputs": []
    },
    {
      "cell_type": "code",
      "metadata": {
        "id": "peLq3I-wbjNK"
      },
      "source": [
        "nltk.download('averaged_perceptron_tagger')\r\n",
        "tagged_words = pos_tag(words)\r\n",
        "filesave('/content/drive/MyDrive/invisible_dragon_words_tags.txt', tagged_words)"
      ],
      "execution_count": null,
      "outputs": []
    },
    {
      "cell_type": "code",
      "metadata": {
        "id": "ESAaTyqNbz0k"
      },
      "source": [
        "noun_words = [word for word, pos in tagged_words if pos in ['NN', 'NNP', 'NNS']]\r\n",
        "filesave('/content/drive/MyDrive/invisible_dragon_words_nouns.txt', noun_words)"
      ],
      "execution_count": null,
      "outputs": []
    }
  ]
}