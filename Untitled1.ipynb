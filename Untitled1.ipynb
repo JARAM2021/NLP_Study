{
 "cells": [
  {
   "cell_type": "code",
   "execution_count": 6,
   "metadata": {},
   "outputs": [],
   "source": [
    "import nltk"
   ]
  },
  {
   "cell_type": "code",
   "execution_count": 7,
   "metadata": {},
   "outputs": [
    {
     "name": "stderr",
     "output_type": "stream",
     "text": [
      "[nltk_data] Downloading package gutenberg to\n",
      "[nltk_data]     /Users/kimnahyun/nltk_data...\n",
      "[nltk_data]   Package gutenberg is already up-to-date!\n"
     ]
    },
    {
     "data": {
      "text/plain": [
       "True"
      ]
     },
     "execution_count": 7,
     "metadata": {},
     "output_type": "execute_result"
    }
   ],
   "source": [
    "nltk.download('gutenberg')"
   ]
  },
  {
   "cell_type": "code",
   "execution_count": 8,
   "metadata": {},
   "outputs": [
    {
     "name": "stderr",
     "output_type": "stream",
     "text": [
      "[nltk_data] Downloading package punkt to /Users/kimnahyun/nltk_data...\n",
      "[nltk_data]   Package punkt is already up-to-date!\n"
     ]
    },
    {
     "data": {
      "text/plain": [
       "True"
      ]
     },
     "execution_count": 8,
     "metadata": {},
     "output_type": "execute_result"
    }
   ],
   "source": [
    "nltk.download('punkt')"
   ]
  },
  {
   "cell_type": "code",
   "execution_count": 9,
   "metadata": {},
   "outputs": [
    {
     "data": {
      "text/plain": [
       "['austen-emma.txt',\n",
       " 'austen-persuasion.txt',\n",
       " 'austen-sense.txt',\n",
       " 'bible-kjv.txt',\n",
       " 'blake-poems.txt',\n",
       " 'bryant-stories.txt',\n",
       " 'burgess-busterbrown.txt',\n",
       " 'carroll-alice.txt',\n",
       " 'chesterton-ball.txt',\n",
       " 'chesterton-brown.txt',\n",
       " 'chesterton-thursday.txt',\n",
       " 'edgeworth-parents.txt',\n",
       " 'melville-moby_dick.txt',\n",
       " 'milton-paradise.txt',\n",
       " 'shakespeare-caesar.txt',\n",
       " 'shakespeare-hamlet.txt',\n",
       " 'shakespeare-macbeth.txt',\n",
       " 'whitman-leaves.txt']"
      ]
     },
     "execution_count": 9,
     "metadata": {},
     "output_type": "execute_result"
    }
   ],
   "source": [
    "nltk.corpus.gutenberg.fileids()"
   ]
  },
  {
   "cell_type": "code",
   "execution_count": 38,
   "metadata": {},
   "outputs": [],
   "source": [
    "from nltk.tokenize import sent_tokenize\n",
    "\n",
    "caesar_raw = nltk.corpus.gutenberg.raw(\"shakespeare-caesar.txt\")"
   ]
  },
  {
   "cell_type": "code",
   "execution_count": 42,
   "metadata": {},
   "outputs": [],
   "source": [
    "import sys\n",
    "sys.stdout = open('output.txt','w')\n",
    "print(word_tokenize(caesar_raw))"
   ]
  },
  {
   "cell_type": "code",
   "execution_count": 40,
   "metadata": {},
   "outputs": [
    {
     "name": "stderr",
     "output_type": "stream",
     "text": [
      "[nltk_data] Downloading package averaged_perceptron_tagger to\n",
      "[nltk_data]     /Users/kimnahyun/nltk_data...\n",
      "[nltk_data]   Package averaged_perceptron_tagger is already up-to-\n",
      "[nltk_data]       date!\n"
     ]
    }
   ],
   "source": [
    "nltk.download('averaged_perceptron_tagger')\n",
    "from nltk.tokenize import word_tokenize\n",
    "from nltk.tag import pos_tag\n",
    "\n",
    "tagged_list = pos_tag(word_tokenize(caesar_raw))\n",
    "sys.stdout = open('output2.txt','w')\n",
    "print(tagged_list)"
   ]
  },
  {
   "cell_type": "code",
   "execution_count": 46,
   "metadata": {},
   "outputs": [],
   "source": [
    "all_noun = [word for word, pos in tagged_list if pos in['NN', 'NNP']]\n",
    "sys.stdout = open('output3.txt','w')\n",
    "print(all_noun)"
   ]
  },
  {
   "cell_type": "code",
   "execution_count": 57,
   "metadata": {},
   "outputs": [
    {
     "data": {
      "image/png": "[encoded data removed]",
      "text/plain": [
       "<Figure size 432x288 with 1 Axes>"
      ]
     },
     "metadata": {
      "needs_background": "light"
     },
     "output_type": "display_data"
    },
    {
     "data": {
      "text/plain": [
       "[('I', 531), ('the', 502), ('and', 409), ('to', 370), ('you', 342)]"
      ]
     },
     "execution_count": 57,
     "metadata": {},
     "output_type": "execute_result"
    }
   ],
   "source": [
    "from nltk import Text \n",
    "from nltk.tokenize import RegexpTokenizer\n",
    "import matplotlib.pyplot as plt\n",
    "from collections import Counter\n",
    "\n",
    "retokenize = RegexpTokenizer(\"[\\w]+\")\n",
    "text = Text(retokenize.tokenize(caesar_raw), name = \"Caesar\")\n",
    "text.plot(20)\n",
    "plt.show()\n",
    "\n",
    "cnt = Counter(text)\n",
    "cnt.most_common(5)"
   ]
  },
  {
   "cell_type": "code",
   "execution_count": 2,
   "metadata": {},
   "outputs": [
    {
     "name": "stdout",
     "output_type": "stream",
     "text": [
      "[{'color': (27, 59, 117), 'tag': '법률', 'size': 345}, {'color': (58, 161, 236), 'tag': '수', 'size': 273}, {'color': (102, 189, 78), 'tag': '①', 'size': 234}, {'color': (238, 41, 90), 'tag': '때', 'size': 165}, {'color': (94, 150, 12), 'tag': '국회', 'size': 159}, {'color': (234, 1, 96), 'tag': '국민', 'size': 153}, {'color': (5, 165, 86), 'tag': '대통령', 'size': 150}, {'color': (52, 8, 90), 'tag': '바', 'size': 111}, {'color': (81, 35, 201), 'tag': '국가', 'size': 108}, {'color': (209, 144, 123), 'tag': '헌법', 'size': 93}, {'color': (120, 90, 252), 'tag': '필요', 'size': 90}, {'color': (12, 89, 177), 'tag': '기타', 'size': 78}, {'color': (106, 82, 144), 'tag': '이', 'size': 69}, {'color': (34, 26, 156), 'tag': '권리', 'size': 60}, {'color': (200, 172, 71), 'tag': '사항', 'size': 60}, {'color': (182, 68, 181), 'tag': '자유', 'size': 57}, {'color': (164, 248, 243), 'tag': '임명', 'size': 57}, {'color': (52, 83, 34), 'tag': '정부', 'size': 54}, {'color': (116, 226, 16), 'tag': '이상', 'size': 54}, {'color': (127, 92, 28), 'tag': '의무', 'size': 51}, {'color': (83, 70, 106), 'tag': '의결', 'size': 51}, {'color': (170, 215, 233), 'tag': '경우', 'size': 51}, {'color': (203, 236, 181), 'tag': '임기', 'size': 48}, {'color': (58, 72, 153), 'tag': '노력', 'size': 39}, {'color': (74, 249, 200), 'tag': '공무원', 'size': 39}, {'color': (93, 15, 94), 'tag': '보호', 'size': 36}, {'color': (84, 245, 159), 'tag': '국회의원', 'size': 36}, {'color': (162, 55, 87), 'tag': '찬성', 'size': 36}, {'color': (235, 69, 3), 'tag': '국무위원', 'size': 36}, {'color': (131, 0, 181), 'tag': '보장', 'size': 33}, {'color': (7, 69, 89), 'tag': '자', 'size': 33}, {'color': (36, 222, 174), 'tag': '법관', 'size': 33}, {'color': (90, 184, 38), 'tag': '요구', 'size': 33}, {'color': (36, 171, 200), 'tag': '과반수', 'size': 33}, {'color': (30, 92, 251), 'tag': '국무총리', 'size': 33}, {'color': (222, 3, 236), 'tag': '대통령의', 'size': 33}, {'color': (110, 127, 130), 'tag': '조약', 'size': 30}, {'color': (157, 151, 147), 'tag': '효력', 'size': 27}, {'color': (69, 114, 226), 'tag': '심판', 'size': 27}, {'color': (125, 55, 2), 'tag': '법원', 'size': 27}, {'color': (69, 179, 120), 'tag': '동의', 'size': 27}, {'color': (219, 26, 1), 'tag': '국회재적의원', 'size': 27}, {'color': (81, 152, 99), 'tag': '대한민국', 'size': 24}, {'color': (115, 238, 152), 'tag': '인정', 'size': 24}, {'color': (10, 126, 46), 'tag': '구성', 'size': 24}, {'color': (244, 104, 169), 'tag': '제출', 'size': 24}, {'color': (86, 221, 198), 'tag': '법률안', 'size': 24}, {'color': (240, 61, 46), 'tag': '대법원장', 'size': 24}, {'color': (31, 214, 159), 'tag': '전', 'size': 21}, {'color': (109, 205, 101), 'tag': '것', 'size': 21}]\n"
     ]
    }
   ],
   "source": [
    "from konlpy.corpus import kolaw\n",
    "from collections import Counter\n",
    "from konlpy.tag import Hannanum\n",
    "import webbrowser\n",
    "import random\n",
    "import pytagcloud\n",
    "\n",
    "r = lambda : random.randint(0, 255)\n",
    "color = lambda : (r(), r(), r())\n",
    "\n",
    "def get_tags(text, ntags = 50, multiplier = 3):\n",
    "    kkma = Hannanum()\n",
    "    kkma_nouns = kkma.nouns(text)\n",
    "    cnt = Counter(kkma_nouns)\n",
    "    \n",
    "    return[{'color':color(), 'tag':n, 'size' : c*multiplier} for n,c in cnt.most_common(ntags)]\n",
    "\n",
    "def draw_cloud(tags, filename, fontname = 'Neuton', size = (1280, 720)):\n",
    "    pytagcloud.create_tag_image(tags, filename, fontname = fontname, size = size)\n",
    "    webbrowser.open(filename)\n",
    "\n",
    "    \n",
    "sent = kolaw.open('constitution.txt').read()\n",
    "tags = get_tags(sent)\n",
    "print(tags)\n",
    "draw_cloud(tags, 'wordcloud.png')\n",
    "\n"
   ]
  },
  {
   "cell_type": "code",
   "execution_count": null,
   "metadata": {},
   "outputs": [],
   "source": []
  }
 ],
 "metadata": {
  "kernelspec": {
   "display_name": "Python 3",
   "language": "python",
   "name": "python3"
  },
  "language_info": {
   "codemirror_mode": {
    "name": "ipython",
    "version": 3
   },
   "file_extension": ".py",
   "mimetype": "text/x-python",
   "name": "python",
   "nbconvert_exporter": "python",
   "pygments_lexer": "ipython3",
   "version": "3.8.5"
  }
 },
 "nbformat": 4,
 "nbformat_minor": 4
}
