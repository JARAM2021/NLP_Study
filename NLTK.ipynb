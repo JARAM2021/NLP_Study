{
  "nbformat": 4,
  "nbformat_minor": 0,
  "metadata": {
    "colab": {
      "name": "NLTK.ipynb",
      "provenance": [],
      "collapsed_sections": [],
      "toc_visible": true,
      "include_colab_link": true
    },
    "kernelspec": {
      "name": "python3",
      "display_name": "Python 3"
    }
  },
  "cells": [
    {
      "cell_type": "markdown",
      "metadata": {
        "id": "view-in-github",
        "colab_type": "text"
      },
      "source": [
        "<a href=\"https://colab.research.google.com/github/JARAM2021/NLP_Study/blob/Juwon/NLTK.ipynb\" target=\"_parent\"><img src=\"https://colab.research.google.com/assets/colab-badge.svg\" alt=\"Open In Colab\"/></a>"
      ]
    },
    {
      "cell_type": "code",
      "metadata": {
        "colab": {
          "base_uri": "https://localhost:8080/"
        },
        "id": "BsY75rJBe_Wq",
        "outputId": "98ad9943-47aa-4f9a-811d-061c709fa12b"
      },
      "source": [
        "pip install nltk"
      ],
      "execution_count": 1,
      "outputs": [
        {
          "output_type": "stream",
          "text": [
            "Requirement already satisfied: nltk in /usr/local/lib/python3.7/dist-packages (3.2.5)\n",
            "Requirement already satisfied: six in /usr/local/lib/python3.7/dist-packages (from nltk) (1.15.0)\n"
          ],
          "name": "stdout"
        }
      ]
    },
    {
      "cell_type": "code",
      "metadata": {
        "colab": {
          "base_uri": "https://localhost:8080/"
        },
        "id": "9KIl8JZlFiMM",
        "outputId": "6a7703cc-08b8-455e-aa9d-f4b69c709b4a"
      },
      "source": [
        "pip install matplotlib"
      ],
      "execution_count": 2,
      "outputs": [
        {
          "output_type": "stream",
          "text": [
            "Requirement already satisfied: matplotlib in /usr/local/lib/python3.7/dist-packages (3.2.2)\n",
            "Requirement already satisfied: cycler>=0.10 in /usr/local/lib/python3.7/dist-packages (from matplotlib) (0.10.0)\n",
            "Requirement already satisfied: numpy>=1.11 in /usr/local/lib/python3.7/dist-packages (from matplotlib) (1.19.5)\n",
            "Requirement already satisfied: python-dateutil>=2.1 in /usr/local/lib/python3.7/dist-packages (from matplotlib) (2.8.1)\n",
            "Requirement already satisfied: pyparsing!=2.0.4,!=2.1.2,!=2.1.6,>=2.0.1 in /usr/local/lib/python3.7/dist-packages (from matplotlib) (2.4.7)\n",
            "Requirement already satisfied: kiwisolver>=1.0.1 in /usr/local/lib/python3.7/dist-packages (from matplotlib) (1.3.1)\n",
            "Requirement already satisfied: six in /usr/local/lib/python3.7/dist-packages (from cycler>=0.10->matplotlib) (1.15.0)\n"
          ],
          "name": "stdout"
        }
      ]
    },
    {
      "cell_type": "code",
      "metadata": {
        "id": "1j60H31S8mMP"
      },
      "source": [
        "def SaveFile(dir, obj):\r\n",
        "  output = open(dir, 'w')\r\n",
        "  output.write(str(obj))\r\n",
        "  output.close()"
      ],
      "execution_count": 3,
      "outputs": []
    },
    {
      "cell_type": "code",
      "metadata": {
        "colab": {
          "base_uri": "https://localhost:8080/"
        },
        "id": "i_yQwAFRlrca",
        "outputId": "3f36f753-1c24-4257-8f54-9880edaf8bb5"
      },
      "source": [
        "import nltk\n",
        "from google.colab import drive\n",
        "drive.mount('//content/drive')\n",
        "nltk.download('punkt')"
      ],
      "execution_count": 4,
      "outputs": [
        {
          "output_type": "stream",
          "text": [
            "Mounted at //content/drive\n",
            "[nltk_data] Downloading package punkt to /root/nltk_data...\n",
            "[nltk_data]   Unzipping tokenizers/punkt.zip.\n"
          ],
          "name": "stdout"
        },
        {
          "output_type": "execute_result",
          "data": {
            "text/plain": [
              "True"
            ]
          },
          "metadata": {
            "tags": []
          },
          "execution_count": 4
        }
      ]
    },
    {
      "cell_type": "code",
      "metadata": {
        "id": "QulAVDa-fkMO"
      },
      "source": [
        "from nltk.tokenize import word_tokenize\r\n",
        "ShapeOfYou_raw = open('/content/drive/MyDrive/NLP/data/ShapeOfYou.txt').read()\r\n",
        "word_tokenized = word_tokenize(ShapeOfYou_raw[:1000])\r\n",
        "SaveFile('/content/drive/MyDrive/NLP/data/tokenized_word_ShapeOfYou.txt',word_tokenized)"
      ],
      "execution_count": 5,
      "outputs": []
    },
    {
      "cell_type": "code",
      "metadata": {
        "id": "3aG71FwdglaH",
        "colab": {
          "base_uri": "https://localhost:8080/"
        },
        "outputId": "d49c22d3-9ffe-4e9f-f83f-65c5f786cf46"
      },
      "source": [
        "from nltk.tag import pos_tag\r\n",
        "nltk.download('averaged_perceptron_tagger')\r\n",
        "word_tagged = pos_tag(word_tokenized)\r\n",
        "SaveFile('/content/drive/MyDrive/NLP/data/tagged_word_ShapeOfYou.txt', word_tagged)"
      ],
      "execution_count": 7,
      "outputs": [
        {
          "output_type": "stream",
          "text": [
            "[nltk_data] Downloading package averaged_perceptron_tagger to\n",
            "[nltk_data]     /root/nltk_data...\n",
            "[nltk_data]   Unzipping taggers/averaged_perceptron_tagger.zip.\n"
          ],
          "name": "stdout"
        }
      ]
    },
    {
      "cell_type": "code",
      "metadata": {
        "id": "B2Svk4OfwbUi"
      },
      "source": [
        "noun_words = [word for word, pos in word_tagged  if pos in ['NNP', 'NNS', 'NN']]\r\n",
        "SaveFile('/content/drive/MyDrive/NLP/data/nown_word_ShapeOfYou.txt', noun_words)"
      ],
      "execution_count": 8,
      "outputs": []
    },
    {
      "cell_type": "code",
      "metadata": {
        "colab": {
          "base_uri": "https://localhost:8080/",
          "height": 298
        },
        "id": "Oqmh49HRFJgS",
        "outputId": "cdd30d51-d42b-47d0-89df-ac671d7b0ac3"
      },
      "source": [
        "from nltk import Text\r\n",
        "from nltk.tokenize import RegexpTokenizer\r\n",
        "import matplotlib.pyplot as plt\r\n",
        "retokenize = RegexpTokenizer(\"[\\w]+\")\r\n",
        "text = Text(retokenize.tokenize(ShapeOfYou_raw),name=\"ShapeOfYou\")\r\n",
        "text.plot(10)\r\n",
        "plt.show()"
      ],
      "execution_count": 9,
      "outputs": [
        {
          "output_type": "display_data",
          "data": {
            "image/png": "[encoded data removed]",
            "text/plain": [
              "<Figure size 432x288 with 1 Axes>"
            ]
          },
          "metadata": {
            "tags": [],
            "needs_background": "light"
          }
        }
      ]
    },
    {
      "cell_type": "code",
      "metadata": {
        "colab": {
          "base_uri": "https://localhost:8080/"
        },
        "id": "HcXB1S0GLArX",
        "outputId": "1050b87e-2da7-4de4-b82c-15e952c5d5e1"
      },
      "source": [
        "from collections import Counter\r\n",
        "count = Counter(text)\r\n",
        "print(count.most_common(5))"
      ],
      "execution_count": 10,
      "outputs": [
        {
          "output_type": "stream",
          "text": [
            "[('I', 54), ('on', 40), ('my', 33), ('in', 27), ('love', 25)]\n"
          ],
          "name": "stdout"
        }
      ]
    },
    {
      "cell_type": "markdown",
      "metadata": {
        "id": "QwT5T_fDVD_Z"
      },
      "source": [
        "# pre-training\r\n",
        "선행학습. 이전에 사용되었던 모델의 정보를 입력받아 새로운 모델을 학습하는 Transfer Learning 에서 사전에 모델을 학습시키는 것을 말한다.\r\n",
        "NLP에서는 자연어를 기계가 처리할 수 있도록(특히 동음이의어, 다의어의 처리) 변환해 놓은 모델을 만드는 것이다.\r\n",
        "\r\n",
        "# fine-tuning\r\n",
        "기존의 학습되어 있는 모델을 기반으로 모델을 목적에 맞게 변형하고 이미 학습된 모델로부터 학습을 업데이트 하는 것이다."
      ]
    }
  ]
}