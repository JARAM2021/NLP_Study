{
  "nbformat": 4,
  "nbformat_minor": 0,
  "metadata": {
    "colab": {
      "name": "week1.ipynb",
      "provenance": [],
      "collapsed_sections": [],
      "mount_file_id": "18NPHRtSkac8QzLMMbRkImbL_Ky-n3iCK",
      "authorship_tag": "ABX9TyMYJ2X445cyKCYc4iw4hv1U",
      "include_colab_link": true
    },
    "kernelspec": {
      "name": "python3",
      "display_name": "Python 3"
    }
  },
  "cells": [
    {
      "cell_type": "markdown",
      "metadata": {
        "id": "view-in-github",
        "colab_type": "text"
      },
      "source": [
        "<a href=\"https://colab.research.google.com/github/JARAM2021/nlp_study/blob/Keunmo/week1.ipynb\" target=\"_parent\"><img src=\"https://colab.research.google.com/assets/colab-badge.svg\" alt=\"Open In Colab\"/></a>"
      ]
    },
    {
      "cell_type": "markdown",
      "metadata": {
        "id": "EfcOEijEmD67"
      },
      "source": [
        "한글폰트 설치"
      ]
    },
    {
      "cell_type": "code",
      "metadata": {
        "id": "RXy6QpXlM9sL"
      },
      "source": [
        "!apt-get update -qq\n",
        "!apt-get install fonts-nanum* -qq"
      ],
      "execution_count": 1,
      "outputs": []
    },
    {
      "cell_type": "code",
      "metadata": {
        "id": "qngLBZJjMtPk"
      },
      "source": [
        "import matplotlib.pyplot as plt\n",
        "%matplotlib inline\n",
        "\n",
        "import matplotlib as mpl\n",
        "\n",
        "plt.rcParams['axes.unicode_minus'] = False\n",
        "\n",
        "path = '/usr/share/fonts/truetype/nanum/NanumGothicCoding.ttf'\n",
        "font_name = mpl.font_manager.FontProperties(fname=path).get_name()\n",
        "\n",
        "mpl.rc('font', family=font_name)\n",
        "mpl.font_manager._rebuild()"
      ],
      "execution_count": 8,
      "outputs": []
    },
    {
      "cell_type": "markdown",
      "metadata": {
        "id": "unMUHl02mL8T"
      },
      "source": [
        "nltk로 텍스트 토크나이징"
      ]
    },
    {
      "cell_type": "code",
      "metadata": {
        "colab": {
          "base_uri": "https://localhost:8080/"
        },
        "id": "mMDzIK02cT2J",
        "outputId": "c31604a6-4144-437f-e26e-f3f079737d99"
      },
      "source": [
        "import nltk\n",
        "nltk.download('punkt')\n",
        "from nltk.tokenize import word_tokenize\n",
        "from nltk.tag import pos_tag\n",
        "\n",
        "def filesave(path, obj):\n",
        "    outfile = open(path, 'w')\n",
        "    outfile.write(str(obj))\n",
        "    outfile.close()\n",
        "\n",
        "rv_lyrics = open('/content/drive/MyDrive/NLP_Study/files/rv_lyrics.txt').read()"
      ],
      "execution_count": 3,
      "outputs": [
        {
          "output_type": "stream",
          "text": [
            "[nltk_data] Downloading package punkt to /root/nltk_data...\n",
            "[nltk_data]   Package punkt is already up-to-date!\n"
          ],
          "name": "stdout"
        }
      ]
    },
    {
      "cell_type": "code",
      "metadata": {
        "id": "yCXRETgV4qKY"
      },
      "source": [
        "words = word_tokenize(rv_lyrics)\n",
        "filesave('/content/drive/MyDrive/NLP_Study/files/rv_lyrics_words.txt', words)"
      ],
      "execution_count": 4,
      "outputs": []
    },
    {
      "cell_type": "code",
      "metadata": {
        "colab": {
          "base_uri": "https://localhost:8080/"
        },
        "id": "WRQ9vJR54xB7",
        "outputId": "1fc7f69a-345c-4229-bf54-b5e9c2e23ea3"
      },
      "source": [
        "nltk.download('averaged_perceptron_tagger')\n",
        "tagged_words = pos_tag(words)\n",
        "filesave('/content/drive/MyDrive/NLP_Study/files/rv_lyrics_tagged_words.txt', tagged_words)"
      ],
      "execution_count": 5,
      "outputs": [
        {
          "output_type": "stream",
          "text": [
            "[nltk_data] Downloading package averaged_perceptron_tagger to\n",
            "[nltk_data]     /root/nltk_data...\n",
            "[nltk_data]   Package averaged_perceptron_tagger is already up-to-\n",
            "[nltk_data]       date!\n"
          ],
          "name": "stdout"
        }
      ]
    },
    {
      "cell_type": "code",
      "metadata": {
        "id": "tZ1uNQ0B5DzB"
      },
      "source": [
        "noun_words = [word for word, pos in tagged_words if pos in ['NN', 'NNP', 'NNS']]\n",
        "filesave('/content/drive/MyDrive/NLP_Study/files/rv_lyrics_noun_words.txt', noun_words)"
      ],
      "execution_count": 6,
      "outputs": []
    },
    {
      "cell_type": "code",
      "metadata": {
        "colab": {
          "base_uri": "https://localhost:8080/",
          "height": 305
        },
        "id": "TY7__nTOGeEY",
        "outputId": "8518f48e-5f15-440b-ec74-4c26deb179ba"
      },
      "source": [
        "from nltk import Text\n",
        "from nltk.tokenize import RegexpTokenizer\n",
        "import matplotlib.pyplot as plt\n",
        "text = Text(RegexpTokenizer('[\\w]+').tokenize(rv_lyrics), name='RV_lyrics')\n",
        "text.plot(20)\n",
        "plt.figure(figsize=(10, 5))\n",
        "plt.show()"
      ],
      "execution_count": 18,
      "outputs": [
        {
          "output_type": "display_data",
          "data": {
            "image/png": "[encoded data removed]",
            "text/plain": [
              "<Figure size 432x288 with 1 Axes>"
            ]
          },
          "metadata": {
            "tags": [],
            "needs_background": "light"
          }
        },
        {
          "output_type": "display_data",
          "data": {
            "text/plain": [
              "<Figure size 720x360 with 0 Axes>"
            ]
          },
          "metadata": {
            "tags": []
          }
        }
      ]
    },
    {
      "cell_type": "code",
      "metadata": {
        "colab": {
          "base_uri": "https://localhost:8080/"
        },
        "id": "B4O_xZpKcWxG",
        "outputId": "4494b7eb-3f4c-4966-bbe5-78470c61eedf"
      },
      "source": [
        "from collections import Counter\n",
        "cnt = Counter(text)\n",
        "print(cnt.most_common(5))"
      ],
      "execution_count": 19,
      "outputs": [
        {
          "output_type": "stream",
          "text": [
            "[('La', 289), ('Dumb', 220), ('내', 201), ('Oh', 187), ('난', 178)]\n"
          ],
          "name": "stdout"
        }
      ]
    },
    {
      "cell_type": "markdown",
      "metadata": {
        "id": "RTiFW6FDmUj3"
      },
      "source": [
        "# pre-training  \n",
        "말 그대로 이미 훈련된 모델이라는 뜻이다. 전이학습에서 사전에 학습된 모델을 말하기도 한다. 자연어처리 분야에서 pre-train은 자연어를 기계가 처리할 수 있는 형태로 임베딩한 모델을 만들어놓는 것이다.  \n",
        "# fine-tuning  \n",
        "fine-tuning은 모델을 사용 목적에 맞게 바꾸는 것을 말한다. 기존에 학습된 모델의 가중치에 기반해서 사용할 목적에 맞게 데이터를 추가로 학습시켜서 파라미터를 업데이트 하는 것이다.  "
      ]
    }
  ]
}